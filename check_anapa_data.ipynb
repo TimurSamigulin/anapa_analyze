{
 "cells": [
  {
   "cell_type": "code",
   "execution_count": 1,
   "id": "dress-wheat",
   "metadata": {},
   "outputs": [],
   "source": [
    "import pandas as pd\n",
    "import nltk"
   ]
  },
  {
   "cell_type": "code",
   "execution_count": 2,
   "id": "intense-replacement",
   "metadata": {},
   "outputs": [],
   "source": [
    "df = pd.read_excel('data/anapa.xlsx', engine='openpyxl')"
   ]
  },
  {
   "cell_type": "code",
   "execution_count": 3,
   "id": "5a01fe54",
   "metadata": {},
   "outputs": [
    {
     "data": {
      "text/html": [
       "<div>\n",
       "<style scoped>\n",
       "    .dataframe tbody tr th:only-of-type {\n",
       "        vertical-align: middle;\n",
       "    }\n",
       "\n",
       "    .dataframe tbody tr th {\n",
       "        vertical-align: top;\n",
       "    }\n",
       "\n",
       "    .dataframe thead th {\n",
       "        text-align: right;\n",
       "    }\n",
       "</style>\n",
       "<table border=\"1\" class=\"dataframe\">\n",
       "  <thead>\n",
       "    <tr style=\"text-align: right;\">\n",
       "      <th></th>\n",
       "      <th>id</th>\n",
       "      <th>Number</th>\n",
       "      <th>Дата инцидента</th>\n",
       "      <th>Дата закрытия</th>\n",
       "      <th>Заголовок</th>\n",
       "      <th>Группа</th>\n",
       "      <th>Статус</th>\n",
       "      <th>Автор</th>\n",
       "      <th>Источник</th>\n",
       "      <th>Ссылка</th>\n",
       "      <th>...</th>\n",
       "      <th>Дата публикации</th>\n",
       "      <th>Текст</th>\n",
       "      <th>Решение</th>\n",
       "      <th>Unnamed: 14</th>\n",
       "      <th>Unnamed: 15</th>\n",
       "      <th>Unnamed: 16</th>\n",
       "      <th>Unnamed: 17</th>\n",
       "      <th>Unnamed: 18</th>\n",
       "      <th>Unnamed: 19</th>\n",
       "      <th>Unnamed: 20</th>\n",
       "    </tr>\n",
       "  </thead>\n",
       "  <tbody>\n",
       "    <tr>\n",
       "      <th>0</th>\n",
       "      <td>10998563</td>\n",
       "      <td>191848</td>\n",
       "      <td>2021-12-21 17:46:51</td>\n",
       "      <td>2021-12-21 17:46:51</td>\n",
       "      <td>★ Подтопление территории</td>\n",
       "      <td>Благоустройство</td>\n",
       "      <td>Готово</td>\n",
       "      <td>Асия Шарафутдинова</td>\n",
       "      <td>Одноклассники</td>\n",
       "      <td>http://ok.ru/profile/574636940597/statuses/154...</td>\n",
       "      <td>...</td>\n",
       "      <td>2021-12-21 16:37:48</td>\n",
       "      <td>Необыкновенные потоки сейчас по Ул Парковая, п...</td>\n",
       "      <td>Удален в источнике!</td>\n",
       "      <td>2021-12-22 10:00:24</td>\n",
       "      <td>2021-12-22 12:04:29</td>\n",
       "      <td>True</td>\n",
       "      <td>NaN</td>\n",
       "      <td>https://i.mycdn.me/image?id=909890726494&amp;t=3&amp;p...</td>\n",
       "      <td>http://ok.ru/profile/272768195934</td>\n",
       "      <td>318</td>\n",
       "    </tr>\n",
       "    <tr>\n",
       "      <th>1</th>\n",
       "      <td>11000290</td>\n",
       "      <td>191929</td>\n",
       "      <td>2021-12-21 20:44:54</td>\n",
       "      <td>2021-12-23 10:00:25</td>\n",
       "      <td>Отсутствие электричества</td>\n",
       "      <td>ЖКХ</td>\n",
       "      <td>Готово</td>\n",
       "      <td>ПВА l Анапа l Подслушано В Анапе</td>\n",
       "      <td>ВКонтакте</td>\n",
       "      <td>http://vk.com/wall-88771274_1866559</td>\n",
       "      <td>...</td>\n",
       "      <td>2021-12-21 20:06:07</td>\n",
       "      <td>Добрый вечер ПВА,опубликуйте пожалуйста пост,х...</td>\n",
       "      <td>Удален в источнике!</td>\n",
       "      <td>2021-12-22 10:00:29</td>\n",
       "      <td>2021-12-23 10:00:25</td>\n",
       "      <td>True</td>\n",
       "      <td>NaN</td>\n",
       "      <td>https://sun1-29.userapi.com/s/v1/if1/oJnR9s1o2...</td>\n",
       "      <td>http://vk.com/club88771274</td>\n",
       "      <td>61033</td>\n",
       "    </tr>\n",
       "    <tr>\n",
       "      <th>2</th>\n",
       "      <td>11009422</td>\n",
       "      <td>192223</td>\n",
       "      <td>2021-12-22 13:19:10</td>\n",
       "      <td>NaT</td>\n",
       "      <td>Выбросы вредных веществ в атмосферу/загрязнени...</td>\n",
       "      <td>Экология</td>\n",
       "      <td>Готово</td>\n",
       "      <td>Ольга Бондаренко</td>\n",
       "      <td>Instagram</td>\n",
       "      <td>https://www.instagram.com/p/CXtthT0IKaj/c/1790...</td>\n",
       "      <td>...</td>\n",
       "      <td>2021-12-22 06:15:47</td>\n",
       "      <td>А почему органы не выявили отчего стоит химиче...</td>\n",
       "      <td>NaN</td>\n",
       "      <td>2021-12-22 17:00:14</td>\n",
       "      <td>2022-01-10 10:05:37</td>\n",
       "      <td>NaN</td>\n",
       "      <td>NaN</td>\n",
       "      <td>https://instagram.fpwq4-1.fna.fbcdn.net/v/t51....</td>\n",
       "      <td>https://instagram.com/olga81218</td>\n",
       "      <td>42</td>\n",
       "    </tr>\n",
       "    <tr>\n",
       "      <th>3</th>\n",
       "      <td>10999525</td>\n",
       "      <td>191884</td>\n",
       "      <td>2021-12-21 19:23:10</td>\n",
       "      <td>NaT</td>\n",
       "      <td>Освещение неисправно или отсутствует</td>\n",
       "      <td>Дороги</td>\n",
       "      <td>Готово</td>\n",
       "      <td>Александ Григорьев</td>\n",
       "      <td>Instagram</td>\n",
       "      <td>https://www.instagram.com/p/CXvoRIUo8-K/c/1789...</td>\n",
       "      <td>...</td>\n",
       "      <td>2021-12-21 12:24:16</td>\n",
       "      <td>В Воскресенск. По мимо этого есть улицы без св...</td>\n",
       "      <td>NaN</td>\n",
       "      <td>2021-12-22 10:00:22</td>\n",
       "      <td>2021-12-30 14:01:52</td>\n",
       "      <td>NaN</td>\n",
       "      <td>NaN</td>\n",
       "      <td>https://instagram.fhrk6-1.fna.fbcdn.net/v/t51....</td>\n",
       "      <td>https://instagram.com/aleksand485</td>\n",
       "      <td>251</td>\n",
       "    </tr>\n",
       "    <tr>\n",
       "      <th>4</th>\n",
       "      <td>11055177</td>\n",
       "      <td>194039</td>\n",
       "      <td>2021-12-26 11:44:32</td>\n",
       "      <td>NaT</td>\n",
       "      <td>Учреждения культуры</td>\n",
       "      <td>Учреждения культуры</td>\n",
       "      <td>Готово</td>\n",
       "      <td>Александр Клюшин</td>\n",
       "      <td>Instagram</td>\n",
       "      <td>https://www.instagram.com/p/CX73AF6IU7N/c/1792...</td>\n",
       "      <td>...</td>\n",
       "      <td>2021-12-26 07:03:56</td>\n",
       "      <td>Цыбанобалка нуждается в современном большом до...</td>\n",
       "      <td>NaN</td>\n",
       "      <td>2021-12-27 12:01:34</td>\n",
       "      <td>2022-01-13 23:01:15</td>\n",
       "      <td>NaN</td>\n",
       "      <td>NaN</td>\n",
       "      <td>https://scontent-arn2-1.cdninstagram.com/v/t51...</td>\n",
       "      <td>https://instagram.com/klyushin89</td>\n",
       "      <td>65</td>\n",
       "    </tr>\n",
       "  </tbody>\n",
       "</table>\n",
       "<p>5 rows × 21 columns</p>\n",
       "</div>"
      ],
      "text/plain": [
       "         id  Number      Дата инцидента       Дата закрытия  \\\n",
       "0  10998563  191848 2021-12-21 17:46:51 2021-12-21 17:46:51   \n",
       "1  11000290  191929 2021-12-21 20:44:54 2021-12-23 10:00:25   \n",
       "2  11009422  192223 2021-12-22 13:19:10                 NaT   \n",
       "3  10999525  191884 2021-12-21 19:23:10                 NaT   \n",
       "4  11055177  194039 2021-12-26 11:44:32                 NaT   \n",
       "\n",
       "                                           Заголовок               Группа  \\\n",
       "0                           ★ Подтопление территории      Благоустройство   \n",
       "1                           Отсутствие электричества                  ЖКХ   \n",
       "2  Выбросы вредных веществ в атмосферу/загрязнени...             Экология   \n",
       "3               Освещение неисправно или отсутствует               Дороги   \n",
       "4                                Учреждения культуры  Учреждения культуры   \n",
       "\n",
       "   Статус                             Автор       Источник  \\\n",
       "0  Готово                Асия Шарафутдинова  Одноклассники   \n",
       "1  Готово  ПВА l Анапа l Подслушано В Анапе      ВКонтакте   \n",
       "2  Готово                  Ольга Бондаренко      Instagram   \n",
       "3  Готово                Александ Григорьев      Instagram   \n",
       "4  Готово                  Александр Клюшин      Instagram   \n",
       "\n",
       "                                              Ссылка  ...     Дата публикации  \\\n",
       "0  http://ok.ru/profile/574636940597/statuses/154...  ... 2021-12-21 16:37:48   \n",
       "1                http://vk.com/wall-88771274_1866559  ... 2021-12-21 20:06:07   \n",
       "2  https://www.instagram.com/p/CXtthT0IKaj/c/1790...  ... 2021-12-22 06:15:47   \n",
       "3  https://www.instagram.com/p/CXvoRIUo8-K/c/1789...  ... 2021-12-21 12:24:16   \n",
       "4  https://www.instagram.com/p/CX73AF6IU7N/c/1792...  ... 2021-12-26 07:03:56   \n",
       "\n",
       "                                               Текст              Решение  \\\n",
       "0  Необыкновенные потоки сейчас по Ул Парковая, п...  Удален в источнике!   \n",
       "1  Добрый вечер ПВА,опубликуйте пожалуйста пост,х...  Удален в источнике!   \n",
       "2  А почему органы не выявили отчего стоит химиче...                  NaN   \n",
       "3  В Воскресенск. По мимо этого есть улицы без св...                  NaN   \n",
       "4  Цыбанобалка нуждается в современном большом до...                  NaN   \n",
       "\n",
       "          Unnamed: 14         Unnamed: 15 Unnamed: 16 Unnamed: 17  \\\n",
       "0 2021-12-22 10:00:24 2021-12-22 12:04:29        True         NaN   \n",
       "1 2021-12-22 10:00:29 2021-12-23 10:00:25        True         NaN   \n",
       "2 2021-12-22 17:00:14 2022-01-10 10:05:37         NaN         NaN   \n",
       "3 2021-12-22 10:00:22 2021-12-30 14:01:52         NaN         NaN   \n",
       "4 2021-12-27 12:01:34 2022-01-13 23:01:15         NaN         NaN   \n",
       "\n",
       "                                         Unnamed: 18  \\\n",
       "0  https://i.mycdn.me/image?id=909890726494&t=3&p...   \n",
       "1  https://sun1-29.userapi.com/s/v1/if1/oJnR9s1o2...   \n",
       "2  https://instagram.fpwq4-1.fna.fbcdn.net/v/t51....   \n",
       "3  https://instagram.fhrk6-1.fna.fbcdn.net/v/t51....   \n",
       "4  https://scontent-arn2-1.cdninstagram.com/v/t51...   \n",
       "\n",
       "                         Unnamed: 19 Unnamed: 20  \n",
       "0  http://ok.ru/profile/272768195934         318  \n",
       "1         http://vk.com/club88771274       61033  \n",
       "2    https://instagram.com/olga81218          42  \n",
       "3  https://instagram.com/aleksand485         251  \n",
       "4   https://instagram.com/klyushin89          65  \n",
       "\n",
       "[5 rows x 21 columns]"
      ]
     },
     "execution_count": 3,
     "metadata": {},
     "output_type": "execute_result"
    }
   ],
   "source": [
    "df.head(5)"
   ]
  },
  {
   "cell_type": "markdown",
   "id": "54808ff4",
   "metadata": {},
   "source": [
    "Кол-во строк"
   ]
  },
  {
   "cell_type": "code",
   "execution_count": 4,
   "id": "64d74957",
   "metadata": {},
   "outputs": [
    {
     "data": {
      "text/plain": [
       "363"
      ]
     },
     "execution_count": 4,
     "metadata": {},
     "output_type": "execute_result"
    }
   ],
   "source": [
    "len(df)"
   ]
  },
  {
   "cell_type": "code",
   "execution_count": 6,
   "id": "91731641",
   "metadata": {},
   "outputs": [
    {
     "data": {
      "text/plain": [
       "Index(['id', 'Number', 'Дата инцидента', 'Дата закрытия', 'Заголовок',\n",
       "       'Группа', 'Статус', 'Автор', 'Источник', 'Ссылка', 'Ссылка на блог',\n",
       "       'Дата публикации', 'Текст', 'Решение', 'Unnamed: 14', 'Unnamed: 15',\n",
       "       'Unnamed: 16', 'Unnamed: 17', 'Unnamed: 18', 'Unnamed: 19',\n",
       "       'Unnamed: 20'],\n",
       "      dtype='object')"
      ]
     },
     "execution_count": 6,
     "metadata": {},
     "output_type": "execute_result"
    }
   ],
   "source": [
    "columns = df.columns\n",
    "columns"
   ]
  },
  {
   "cell_type": "code",
   "execution_count": 27,
   "id": "6970efd0",
   "metadata": {},
   "outputs": [],
   "source": [
    "norm_col = df.columns[:-7]"
   ]
  },
  {
   "cell_type": "code",
   "execution_count": 30,
   "id": "2e2c5c1b",
   "metadata": {},
   "outputs": [],
   "source": [
    "new_columns_name = list(norm_col) + ['begin_date', 'end_date', 'is_close', 'hz', 'photo_link', 'profile_link', 'follows']"
   ]
  },
  {
   "cell_type": "code",
   "execution_count": 31,
   "id": "adad92f9",
   "metadata": {},
   "outputs": [],
   "source": [
    "df.columns = new_columns_name"
   ]
  },
  {
   "cell_type": "code",
   "execution_count": 32,
   "id": "20662f17",
   "metadata": {},
   "outputs": [
    {
     "name": "stdout",
     "output_type": "stream",
     "text": [
      "<class 'pandas.core.frame.DataFrame'>\n",
      "RangeIndex: 363 entries, 0 to 362\n",
      "Data columns (total 21 columns):\n",
      " #   Column           Non-Null Count  Dtype         \n",
      "---  ------           --------------  -----         \n",
      " 0   id               363 non-null    int64         \n",
      " 1   Number           363 non-null    int64         \n",
      " 2   Дата инцидента   363 non-null    datetime64[ns]\n",
      " 3   Дата закрытия    208 non-null    datetime64[ns]\n",
      " 4   Заголовок        363 non-null    object        \n",
      " 5   Группа           363 non-null    object        \n",
      " 6   Статус           363 non-null    object        \n",
      " 7   Автор            363 non-null    object        \n",
      " 8   Источник         363 non-null    object        \n",
      " 9   Ссылка           363 non-null    object        \n",
      " 10  Ссылка на блог   363 non-null    object        \n",
      " 11  Дата публикации  363 non-null    datetime64[ns]\n",
      " 12  Текст            363 non-null    object        \n",
      " 13  Решение          205 non-null    object        \n",
      " 14  begin_date       363 non-null    datetime64[ns]\n",
      " 15  end_date         363 non-null    datetime64[ns]\n",
      " 16  is_close         198 non-null    object        \n",
      " 17  hz               0 non-null      float64       \n",
      " 18  photo_link       352 non-null    object        \n",
      " 19  profile_link     358 non-null    object        \n",
      " 20  follows          363 non-null    int64         \n",
      "dtypes: datetime64[ns](5), float64(1), int64(3), object(12)\n",
      "memory usage: 59.7+ KB\n"
     ]
    }
   ],
   "source": [
    "df.info()"
   ]
  },
  {
   "cell_type": "markdown",
   "id": "165f3ebb",
   "metadata": {},
   "source": [
    "Удаляем пустой столбец"
   ]
  },
  {
   "cell_type": "code",
   "execution_count": 34,
   "id": "03950a66",
   "metadata": {},
   "outputs": [],
   "source": [
    "df.drop(columns=['hz'], axis=1, inplace=True)"
   ]
  },
  {
   "cell_type": "code",
   "execution_count": 35,
   "id": "d4d77025",
   "metadata": {},
   "outputs": [
    {
     "name": "stdout",
     "output_type": "stream",
     "text": [
      "<class 'pandas.core.frame.DataFrame'>\n",
      "RangeIndex: 363 entries, 0 to 362\n",
      "Data columns (total 20 columns):\n",
      " #   Column           Non-Null Count  Dtype         \n",
      "---  ------           --------------  -----         \n",
      " 0   id               363 non-null    int64         \n",
      " 1   Number           363 non-null    int64         \n",
      " 2   Дата инцидента   363 non-null    datetime64[ns]\n",
      " 3   Дата закрытия    208 non-null    datetime64[ns]\n",
      " 4   Заголовок        363 non-null    object        \n",
      " 5   Группа           363 non-null    object        \n",
      " 6   Статус           363 non-null    object        \n",
      " 7   Автор            363 non-null    object        \n",
      " 8   Источник         363 non-null    object        \n",
      " 9   Ссылка           363 non-null    object        \n",
      " 10  Ссылка на блог   363 non-null    object        \n",
      " 11  Дата публикации  363 non-null    datetime64[ns]\n",
      " 12  Текст            363 non-null    object        \n",
      " 13  Решение          205 non-null    object        \n",
      " 14  begin_date       363 non-null    datetime64[ns]\n",
      " 15  end_date         363 non-null    datetime64[ns]\n",
      " 16  is_close         198 non-null    object        \n",
      " 17  photo_link       352 non-null    object        \n",
      " 18  profile_link     358 non-null    object        \n",
      " 19  follows          363 non-null    int64         \n",
      "dtypes: datetime64[ns](5), int64(3), object(12)\n",
      "memory usage: 56.8+ KB\n"
     ]
    }
   ],
   "source": [
    "df.info()"
   ]
  },
  {
   "cell_type": "markdown",
   "id": "9c63aadc",
   "metadata": {},
   "source": [
    "Смотрим на решения"
   ]
  },
  {
   "cell_type": "code",
   "execution_count": 36,
   "id": "de5d47c6",
   "metadata": {},
   "outputs": [
    {
     "data": {
      "text/plain": [
       "11"
      ]
     },
     "execution_count": 36,
     "metadata": {},
     "output_type": "execute_result"
    }
   ],
   "source": [
    "len(df['Решение'].unique())"
   ]
  },
  {
   "cell_type": "markdown",
   "id": "8182a309",
   "metadata": {},
   "source": [
    "Пустых, нет решений, почему?"
   ]
  },
  {
   "cell_type": "code",
   "execution_count": 51,
   "id": "d789e00f",
   "metadata": {},
   "outputs": [
    {
     "data": {
      "text/plain": [
       "158"
      ]
     },
     "execution_count": 51,
     "metadata": {},
     "output_type": "execute_result"
    }
   ],
   "source": [
    "df['Решение'].isnull().sum()"
   ]
  },
  {
   "cell_type": "code",
   "execution_count": 42,
   "id": "d6663d4e",
   "metadata": {},
   "outputs": [
    {
     "data": {
      "text/plain": [
       "array(['Удален в источнике!', nan,\n",
       "       '@valeriiagab Добрый день. Вы можете направить заявку на восстановление или благоустройство конкретных участков тротуарного покрытия в управление ЖКХ администрации города-курорта по адресу: ул. Крымская, 150 или через виртуальную приемную на сайте www.anap',\n",
       "       '[club88771274|ПВА l Анапа l Подслушано В Анапе] Добрый день. Для решения данного вопроса Вам следует обратиться в управляющую компанию. В случае если проблема не будет решена, Вы можете инициировать проверку в отношении УК в рамках закона Краснодарского края от 06.12.2017 № 3700-КЗ. Основанием для проведения проверки является официальное обращение, направленное в администрацию города-курорта. Обращение можно направить через виртуальную приемную на сайте www.anapa-official.ru, или в виде письменного заявления через отдел по работе с обращениями граждан по адресу: ул. Крымская, д. 99.',\n",
       "       '@irinabuidenk  Добрый день. По данному вопросу обратитесь к председателю ДНТ.',\n",
       "       '@chistoemore_anapa Добрый день. По данному вопросу Вы можете обратиться в отдел по взаимодействию с органами ТОС по телефону: +7 (86133) 2-02-73.',\n",
       "       '@lukinykh879 Добрый день. Вы можете направить Ваши предложения и претензии в ПАО «Россети Кубань» на сайте rosseti-kuban.ru в разделе «Интернет-приемная».',\n",
       "       '@__angreegirl__22_years Добрый день. Информация передана в управление ЖКХ для проведения проверки.',\n",
       "       '{получатели} Добрый день. Электроснабжение восстановлено после завершения необходимых аварийных работ.',\n",
       "       '[club88771274|ПВА l Анапа l Подслушано В Анапе] Добрый день. Вы можете направить претензию в ПАО «Россети Кубань» на сайте rosseti-kuban.ru в разделе «Интернет-приемная».',\n",
       "       '@nadezhdatarasova1247 Добрый день. Для решения данного вопроса Вам следует обратиться в управляющую компанию. В случае если проблема не будет решена, Вы можете инициировать проверку в отношении УК в рамках закона Краснодарского края от 06.12.2017 № 3700-К'],\n",
       "      dtype=object)"
      ]
     },
     "execution_count": 42,
     "metadata": {},
     "output_type": "execute_result"
    }
   ],
   "source": [
    "df['Решение'].unique()"
   ]
  },
  {
   "cell_type": "code",
   "execution_count": 43,
   "id": "e0f2ea54",
   "metadata": {},
   "outputs": [
    {
     "data": {
      "text/plain": [
       "Удален в источнике!                                                                                                                                                                                                                                                                                                                                                                                                                                                                                                                                                                                              195\n",
       "{получатели} Добрый день. Электроснабжение восстановлено после завершения необходимых аварийных работ.                                                                                                                                                                                                                                                                                                                                                                                                                                                                                                             2\n",
       "@valeriiagab Добрый день. Вы можете направить заявку на восстановление или благоустройство конкретных участков тротуарного покрытия в управление ЖКХ администрации города-курорта по адресу: ул. Крымская, 150 или через виртуальную приемную на сайте www.anap                                                                                                                                                                                                                                                                                                                                                    1\n",
       "[club88771274|ПВА l Анапа l Подслушано В Анапе] Добрый день. Для решения данного вопроса Вам следует обратиться в управляющую компанию. В случае если проблема не будет решена, Вы можете инициировать проверку в отношении УК в рамках закона Краснодарского края от 06.12.2017 № 3700-КЗ. Основанием для проведения проверки является официальное обращение, направленное в администрацию города-курорта. Обращение можно направить через виртуальную приемную на сайте www.anapa-official.ru, или в виде письменного заявления через отдел по работе с обращениями граждан по адресу: ул. Крымская, д. 99.      1\n",
       "@irinabuidenk  Добрый день. По данному вопросу обратитесь к председателю ДНТ.                                                                                                                                                                                                                                                                                                                                                                                                                                                                                                                                      1\n",
       "@chistoemore_anapa Добрый день. По данному вопросу Вы можете обратиться в отдел по взаимодействию с органами ТОС по телефону: +7 (86133) 2-02-73.                                                                                                                                                                                                                                                                                                                                                                                                                                                                  1\n",
       "@lukinykh879 Добрый день. Вы можете направить Ваши предложения и претензии в ПАО «Россети Кубань» на сайте rosseti-kuban.ru в разделе «Интернет-приемная».                                                                                                                                                                                                                                                                                                                                                                                                                                                         1\n",
       "@__angreegirl__22_years Добрый день. Информация передана в управление ЖКХ для проведения проверки.                                                                                                                                                                                                                                                                                                                                                                                                                                                                                                                 1\n",
       "[club88771274|ПВА l Анапа l Подслушано В Анапе] Добрый день. Вы можете направить претензию в ПАО «Россети Кубань» на сайте rosseti-kuban.ru в разделе «Интернет-приемная».                                                                                                                                                                                                                                                                                                                                                                                                                                         1\n",
       "@nadezhdatarasova1247 Добрый день. Для решения данного вопроса Вам следует обратиться в управляющую компанию. В случае если проблема не будет решена, Вы можете инициировать проверку в отношении УК в рамках закона Краснодарского края от 06.12.2017 № 3700-К                                                                                                                                                                                                                                                                                                                                                    1\n",
       "Name: Решение, dtype: int64"
      ]
     },
     "execution_count": 43,
     "metadata": {},
     "output_type": "execute_result"
    }
   ],
   "source": [
    "df['Решение'].value_counts()"
   ]
  },
  {
   "cell_type": "markdown",
   "id": "4ff4a001",
   "metadata": {},
   "source": [
    "Про группы. Автоматически или нет формируются?"
   ]
  },
  {
   "cell_type": "code",
   "execution_count": 44,
   "id": "0975a9cf",
   "metadata": {},
   "outputs": [
    {
     "data": {
      "text/plain": [
       "19"
      ]
     },
     "execution_count": 44,
     "metadata": {},
     "output_type": "execute_result"
    }
   ],
   "source": [
    "len(df['Группа'].unique())"
   ]
  },
  {
   "cell_type": "code",
   "execution_count": 52,
   "id": "cda0f936",
   "metadata": {},
   "outputs": [
    {
     "data": {
      "text/plain": [
       "0"
      ]
     },
     "execution_count": 52,
     "metadata": {},
     "output_type": "execute_result"
    }
   ],
   "source": [
    "df['Группа'].isnull().sum()"
   ]
  },
  {
   "cell_type": "code",
   "execution_count": 45,
   "id": "34cc1bd3",
   "metadata": {},
   "outputs": [
    {
     "data": {
      "text/plain": [
       "array(['Благоустройство', 'ЖКХ', 'Экология', 'Дороги',\n",
       "       'Учреждения культуры', 'Связь и телевидение', 'Электроснабжение',\n",
       "       'Социальное обслуживание и защита', 'Мусор/Свалки/ТКО',\n",
       "       'Строительство и архитектура', 'Общественный транспорт',\n",
       "       'Безопасность', 'Физическая культура и спорт',\n",
       "       'Здравоохранение/Медицина', 'Экономика и бизнес', 'Образование',\n",
       "       'Газ и топливо', 'Законность и правопорядок',\n",
       "       'Погребение и похоронное дело'], dtype=object)"
      ]
     },
     "execution_count": 45,
     "metadata": {},
     "output_type": "execute_result"
    }
   ],
   "source": [
    "df['Группа'].unique()"
   ]
  },
  {
   "cell_type": "markdown",
   "id": "a30986b2",
   "metadata": {},
   "source": [
    "Разное кол-во пустых элементов почему-то, видимо где-то забывали внести данные"
   ]
  },
  {
   "cell_type": "code",
   "execution_count": 54,
   "id": "5707542a",
   "metadata": {},
   "outputs": [
    {
     "name": "stdout",
     "output_type": "stream",
     "text": [
      "158\n",
      "155\n",
      "165\n"
     ]
    }
   ],
   "source": [
    "print(df['Решение'].isnull().sum())\n",
    "print(df['Дата закрытия'].isnull().sum())\n",
    "print(df['is_close'].isnull().sum())"
   ]
  }
 ],
 "metadata": {
  "kernelspec": {
   "display_name": "Python 3 (ipykernel)",
   "language": "python",
   "name": "python3"
  },
  "language_info": {
   "codemirror_mode": {
    "name": "ipython",
    "version": 3
   },
   "file_extension": ".py",
   "mimetype": "text/x-python",
   "name": "python",
   "nbconvert_exporter": "python",
   "pygments_lexer": "ipython3",
   "version": "3.8.10"
  }
 },
 "nbformat": 4,
 "nbformat_minor": 5
}
